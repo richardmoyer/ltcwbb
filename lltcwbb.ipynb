{
 "metadata": {
  "language_info": {
   "codemirror_mode": {
    "name": "ipython",
    "version": 3
   },
   "file_extension": ".py",
   "mimetype": "text/x-python",
   "name": "python",
   "nbconvert_exporter": "python",
   "pygments_lexer": "ipython3",
   "version": "3.8.6-final"
  },
  "orig_nbformat": 2,
  "kernelspec": {
   "name": "python38564bit9fa4caf4cfad4ccc9de4acfa93d7af8b",
   "display_name": "Python 3.8.5 64-bit"
  }
 },
 "nbformat": 4,
 "nbformat_minor": 2,
 "cells": [
  {
   "cell_type": "code",
   "execution_count": 1,
   "metadata": {},
   "outputs": [
    {
     "output_type": "execute_result",
     "data": {
      "text/plain": [
       "           name bats throws  height  weight   playerID  birthYear  birthMonth  \\\n",
       "0    Jose Abreu    R      R    75.0   255.0  abreujo02       1987           1   \n",
       "1  Ronald Acuna    R      R    72.0   180.0  acunaro01       1997          12   \n",
       "2  Willy Adames    R      R    72.0   200.0  adamewi01       1995           9   \n",
       "3    Matt Adams    L      R    75.0   245.0  adamsma01       1988           8   \n",
       "4    Jim Adduci    L      L    74.0   210.0  adducji02       1985           5   \n",
       "\n",
       "   birthDay    birthCity  birthState birthCountry     debut  \n",
       "0        29   Cienfuegos  Cienfuegos         Cuba  20140331  \n",
       "1        18    La Guaira      Vargas    Venezuela  20180425  \n",
       "2         2     Santiago    Santiago         D.R.  20180522  \n",
       "3        31  Philipsburg          PA          USA  20120520  \n",
       "4        15      Burnaby          BC          CAN  20130901  "
      ],
      "text/html": "<div>\n<style scoped>\n    .dataframe tbody tr th:only-of-type {\n        vertical-align: middle;\n    }\n\n    .dataframe tbody tr th {\n        vertical-align: top;\n    }\n\n    .dataframe thead th {\n        text-align: right;\n    }\n</style>\n<table border=\"1\" class=\"dataframe\">\n  <thead>\n    <tr style=\"text-align: right;\">\n      <th></th>\n      <th>name</th>\n      <th>bats</th>\n      <th>throws</th>\n      <th>height</th>\n      <th>weight</th>\n      <th>playerID</th>\n      <th>birthYear</th>\n      <th>birthMonth</th>\n      <th>birthDay</th>\n      <th>birthCity</th>\n      <th>birthState</th>\n      <th>birthCountry</th>\n      <th>debut</th>\n    </tr>\n  </thead>\n  <tbody>\n    <tr>\n      <th>0</th>\n      <td>Jose Abreu</td>\n      <td>R</td>\n      <td>R</td>\n      <td>75.0</td>\n      <td>255.0</td>\n      <td>abreujo02</td>\n      <td>1987</td>\n      <td>1</td>\n      <td>29</td>\n      <td>Cienfuegos</td>\n      <td>Cienfuegos</td>\n      <td>Cuba</td>\n      <td>20140331</td>\n    </tr>\n    <tr>\n      <th>1</th>\n      <td>Ronald Acuna</td>\n      <td>R</td>\n      <td>R</td>\n      <td>72.0</td>\n      <td>180.0</td>\n      <td>acunaro01</td>\n      <td>1997</td>\n      <td>12</td>\n      <td>18</td>\n      <td>La Guaira</td>\n      <td>Vargas</td>\n      <td>Venezuela</td>\n      <td>20180425</td>\n    </tr>\n    <tr>\n      <th>2</th>\n      <td>Willy Adames</td>\n      <td>R</td>\n      <td>R</td>\n      <td>72.0</td>\n      <td>200.0</td>\n      <td>adamewi01</td>\n      <td>1995</td>\n      <td>9</td>\n      <td>2</td>\n      <td>Santiago</td>\n      <td>Santiago</td>\n      <td>D.R.</td>\n      <td>20180522</td>\n    </tr>\n    <tr>\n      <th>3</th>\n      <td>Matt Adams</td>\n      <td>L</td>\n      <td>R</td>\n      <td>75.0</td>\n      <td>245.0</td>\n      <td>adamsma01</td>\n      <td>1988</td>\n      <td>8</td>\n      <td>31</td>\n      <td>Philipsburg</td>\n      <td>PA</td>\n      <td>USA</td>\n      <td>20120520</td>\n    </tr>\n    <tr>\n      <th>4</th>\n      <td>Jim Adduci</td>\n      <td>L</td>\n      <td>L</td>\n      <td>74.0</td>\n      <td>210.0</td>\n      <td>adducji02</td>\n      <td>1985</td>\n      <td>5</td>\n      <td>15</td>\n      <td>Burnaby</td>\n      <td>BC</td>\n      <td>CAN</td>\n      <td>20130901</td>\n    </tr>\n  </tbody>\n</table>\n</div>"
     },
     "metadata": {},
     "execution_count": 1
    }
   ],
   "source": [
    "import pandas as pd\n",
    "import numpy as np\n",
    "from os import path\n",
    "\n",
    "DATA_DIR = '/home/richm/projects/python/baseball/data'\n",
    "\n",
    "# players = pd.read_csv(path.join(DATA_DIR, '2018-season', 'players.csv'))\n",
    "players = pd.read_csv(path.join(DATA_DIR, '2018-season', 'players.csv'))\n",
    "\n",
    "players.head()"
   ]
  },
  {
   "cell_type": "code",
   "execution_count": 2,
   "metadata": {},
   "outputs": [],
   "source": [
    "pp = pd.read_csv(path.join(DATA_DIR, '100-game-sample', 'pitches.csv'))"
   ]
  },
  {
   "cell_type": "code",
   "execution_count": 3,
   "metadata": {},
   "outputs": [],
   "source": [
    "pp['mph_max'] = 105.1"
   ]
  },
  {
   "cell_type": "code",
   "execution_count": 4,
   "metadata": {},
   "outputs": [
    {
     "output_type": "execute_result",
     "data": {
      "text/plain": [
       "    pitcher    batter  i  o  b  s pitch_type   mph  mph_max\n",
       "0  S.Romano   A.Eaton  1  0  0  0         FT  95.4    105.1\n",
       "1  S.Romano   A.Eaton  1  0  1  0         FT  95.0    105.1\n",
       "2  S.Romano   A.Eaton  1  0  1  1         FT  89.9    105.1\n",
       "3  S.Romano  A.Rendon  1  0  0  0         FT  95.2    105.1\n",
       "4  S.Romano  A.Rendon  1  0  0  1         FT  95.4    105.1"
      ],
      "text/html": "<div>\n<style scoped>\n    .dataframe tbody tr th:only-of-type {\n        vertical-align: middle;\n    }\n\n    .dataframe tbody tr th {\n        vertical-align: top;\n    }\n\n    .dataframe thead th {\n        text-align: right;\n    }\n</style>\n<table border=\"1\" class=\"dataframe\">\n  <thead>\n    <tr style=\"text-align: right;\">\n      <th></th>\n      <th>pitcher</th>\n      <th>batter</th>\n      <th>i</th>\n      <th>o</th>\n      <th>b</th>\n      <th>s</th>\n      <th>pitch_type</th>\n      <th>mph</th>\n      <th>mph_max</th>\n    </tr>\n  </thead>\n  <tbody>\n    <tr>\n      <th>0</th>\n      <td>S.Romano</td>\n      <td>A.Eaton</td>\n      <td>1</td>\n      <td>0</td>\n      <td>0</td>\n      <td>0</td>\n      <td>FT</td>\n      <td>95.4</td>\n      <td>105.1</td>\n    </tr>\n    <tr>\n      <th>1</th>\n      <td>S.Romano</td>\n      <td>A.Eaton</td>\n      <td>1</td>\n      <td>0</td>\n      <td>1</td>\n      <td>0</td>\n      <td>FT</td>\n      <td>95.0</td>\n      <td>105.1</td>\n    </tr>\n    <tr>\n      <th>2</th>\n      <td>S.Romano</td>\n      <td>A.Eaton</td>\n      <td>1</td>\n      <td>0</td>\n      <td>1</td>\n      <td>1</td>\n      <td>FT</td>\n      <td>89.9</td>\n      <td>105.1</td>\n    </tr>\n    <tr>\n      <th>3</th>\n      <td>S.Romano</td>\n      <td>A.Rendon</td>\n      <td>1</td>\n      <td>0</td>\n      <td>0</td>\n      <td>0</td>\n      <td>FT</td>\n      <td>95.2</td>\n      <td>105.1</td>\n    </tr>\n    <tr>\n      <th>4</th>\n      <td>S.Romano</td>\n      <td>A.Rendon</td>\n      <td>1</td>\n      <td>0</td>\n      <td>0</td>\n      <td>1</td>\n      <td>FT</td>\n      <td>95.4</td>\n      <td>105.1</td>\n    </tr>\n  </tbody>\n</table>\n</div>"
     },
     "metadata": {},
     "execution_count": 4
    }
   ],
   "source": [
    "pp[['pitcher', 'batter', 'i', 'o', 'b', 's', 'pitch_type', 'mph', 'mph_max']].head()"
   ]
  },
  {
   "cell_type": "code",
   "execution_count": 5,
   "metadata": {},
   "outputs": [],
   "source": [
    "pp['sz_height'] = pp['sz_top'] - pp['sz_bot']"
   ]
  },
  {
   "cell_type": "code",
   "execution_count": 6,
   "metadata": {},
   "outputs": [
    {
     "output_type": "execute_result",
     "data": {
      "text/plain": [
       "    pitcher    batter  i  o  b  s  sz_height\n",
       "0  S.Romano   A.Eaton  1  0  0  0   1.649198\n",
       "1  S.Romano   A.Eaton  1  0  1  0   1.703860\n",
       "2  S.Romano   A.Eaton  1  0  1  1   1.728450\n",
       "3  S.Romano  A.Rendon  1  0  0  0   1.581542\n",
       "4  S.Romano  A.Rendon  1  0  0  1   1.899517"
      ],
      "text/html": "<div>\n<style scoped>\n    .dataframe tbody tr th:only-of-type {\n        vertical-align: middle;\n    }\n\n    .dataframe tbody tr th {\n        vertical-align: top;\n    }\n\n    .dataframe thead th {\n        text-align: right;\n    }\n</style>\n<table border=\"1\" class=\"dataframe\">\n  <thead>\n    <tr style=\"text-align: right;\">\n      <th></th>\n      <th>pitcher</th>\n      <th>batter</th>\n      <th>i</th>\n      <th>o</th>\n      <th>b</th>\n      <th>s</th>\n      <th>sz_height</th>\n    </tr>\n  </thead>\n  <tbody>\n    <tr>\n      <th>0</th>\n      <td>S.Romano</td>\n      <td>A.Eaton</td>\n      <td>1</td>\n      <td>0</td>\n      <td>0</td>\n      <td>0</td>\n      <td>1.649198</td>\n    </tr>\n    <tr>\n      <th>1</th>\n      <td>S.Romano</td>\n      <td>A.Eaton</td>\n      <td>1</td>\n      <td>0</td>\n      <td>1</td>\n      <td>0</td>\n      <td>1.703860</td>\n    </tr>\n    <tr>\n      <th>2</th>\n      <td>S.Romano</td>\n      <td>A.Eaton</td>\n      <td>1</td>\n      <td>0</td>\n      <td>1</td>\n      <td>1</td>\n      <td>1.728450</td>\n    </tr>\n    <tr>\n      <th>3</th>\n      <td>S.Romano</td>\n      <td>A.Rendon</td>\n      <td>1</td>\n      <td>0</td>\n      <td>0</td>\n      <td>0</td>\n      <td>1.581542</td>\n    </tr>\n    <tr>\n      <th>4</th>\n      <td>S.Romano</td>\n      <td>A.Rendon</td>\n      <td>1</td>\n      <td>0</td>\n      <td>0</td>\n      <td>1</td>\n      <td>1.899517</td>\n    </tr>\n  </tbody>\n</table>\n</div>"
     },
     "metadata": {},
     "execution_count": 6
    }
   ],
   "source": [
    "pp[['pitcher', 'batter', 'i', 'o', 'b', 's', 'sz_height']].head()"
   ]
  },
  {
   "cell_type": "code",
   "execution_count": 7,
   "metadata": {},
   "outputs": [],
   "source": [
    "pp['distance_from_middle_of_plate'] = np.abs(pp['x0'])"
   ]
  },
  {
   "cell_type": "code",
   "execution_count": 8,
   "metadata": {},
   "outputs": [],
   "source": [
    "pp['ln_spin_rate'] = np.log(pp['spin_rate'])"
   ]
  },
  {
   "cell_type": "code",
   "execution_count": 9,
   "metadata": {},
   "outputs": [
    {
     "output_type": "execute_result",
     "data": {
      "text/plain": [
       "24721     M.ESTRADA\n",
       "7277      J.JIMENEZ\n",
       "14863    G.RICHARDS\n",
       "10988      S.ROMANO\n",
       "10440      J.DEGROM\n",
       "Name: pitcher, dtype: object"
      ]
     },
     "metadata": {},
     "execution_count": 9
    }
   ],
   "source": [
    "pp['pitcher'].str.upper().sample(5)"
   ]
  },
  {
   "source": [
    "pp['batter'].str.replace('.', ' ').sample(20)"
   ],
   "cell_type": "code",
   "metadata": {},
   "execution_count": 10,
   "outputs": [
    {
     "output_type": "execute_result",
     "data": {
      "text/plain": [
       "3956       G Stanton\n",
       "16736        A Judge\n",
       "2914     D Vogelbach\n",
       "24084         L Cain\n",
       "4714       G Polanco\n",
       "16450      A Escobar\n",
       "22070      Y Sanchez\n",
       "8775        T Turner\n",
       "4485       A Bregman\n",
       "3487        C Correa\n",
       "21734         C Cron\n",
       "25631      J Aguilar\n",
       "16790      G Stanton\n",
       "8213       E Rosario\n",
       "9380          T Shaw\n",
       "15072        J Upton\n",
       "28273     C Gonzalez\n",
       "2514          A Diaz\n",
       "22525      O Narvaez\n",
       "17994       C Yelich\n",
       "Name: batter, dtype: object"
      ]
     },
     "metadata": {},
     "execution_count": 10
    }
   ]
  },
  {
   "cell_type": "code",
   "execution_count": 11,
   "metadata": {},
   "outputs": [],
   "source": [
    "atbats = pd.read_csv(path.join(DATA_DIR, '2018-season', 'atbats.csv'))"
   ]
  },
  {
   "cell_type": "code",
   "execution_count": 12,
   "metadata": {},
   "outputs": [
    {
     "output_type": "execute_result",
     "data": {
      "text/plain": [
       "year     2018.000000\n",
       "stint       1.028409\n",
       "G          98.515152\n",
       "AB        275.797348\n",
       "R          37.092803\n",
       "H          70.223485\n",
       "2B         14.202652\n",
       "3B          1.458333\n",
       "HR          9.717803\n",
       "RBI        35.403409\n",
       "SB          4.297348\n",
       "CS          1.674242\n",
       "BB         26.863636\n",
       "SO         65.632576\n",
       "IBB         1.693182\n",
       "HBP         3.335227\n",
       "SH          0.704545\n",
       "SF          2.109848\n",
       "GIDP        5.789773\n",
       "dtype: float64"
      ]
     },
     "metadata": {},
     "execution_count": 12
    }
   ],
   "source": [
    "atbats.mean()"
   ]
  },
  {
   "cell_type": "code",
   "execution_count": 13,
   "metadata": {},
   "outputs": [
    {
     "output_type": "execute_result",
     "data": {
      "text/plain": [
       "G      98.515152\n",
       "AB    275.797348\n",
       "H      70.223485\n",
       "HR      9.717803\n",
       "dtype: float64"
      ]
     },
     "metadata": {},
     "execution_count": 13
    }
   ],
   "source": [
    "atbats[['G','AB','H','HR']].mean(axis=0)"
   ]
  },
  {
   "cell_type": "code",
   "execution_count": null,
   "metadata": {},
   "outputs": [],
   "source": []
  }
 ]
}